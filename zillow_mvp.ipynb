{
 "cells": [
  {
   "cell_type": "code",
   "execution_count": 58,
   "metadata": {},
   "outputs": [],
   "source": [
    "import pandas as pd\n",
    "import numpy as np\n",
    "import matplotlib.pyplot as plt\n",
    "import seaborn as sns\n",
    "from sklearn.model_selection import train_test_split\n",
    "from sklearn.preprocessing import StandardScaler, MinMaxScaler, PolynomialFeatures\n",
    "from sklearn.metrics import mean_squared_error, r2_score, explained_variance_score\n",
    "from sklearn.linear_model import LinearRegression\n",
    "from sklearn.feature_selection import RFE\n",
    "import statsmodels.api as sm\n",
    "\n",
    "import warnings\n",
    "warnings.filterwarnings(\"ignore\")\n",
    "\n",
    "import split_scale\n",
    "import env\n",
    "import model\n",
    "from wrangle import acquire\n",
    "from wrangle import clean_data"
   ]
  },
  {
   "cell_type": "code",
   "execution_count": 59,
   "metadata": {},
   "outputs": [
    {
     "data": {
      "text/plain": [
       "(14990, 7)"
      ]
     },
     "execution_count": 59,
     "metadata": {},
     "output_type": "execute_result"
    }
   ],
   "source": [
    "# acquire data from zillow db\n",
    "df = acquire('zillow')\n",
    "df.shape"
   ]
  },
  {
   "cell_type": "code",
   "execution_count": 60,
   "metadata": {},
   "outputs": [
    {
     "name": "stdout",
     "output_type": "stream",
     "text": [
      "<class 'pandas.core.frame.DataFrame'>\n",
      "RangeIndex: 14990 entries, 0 to 14989\n",
      "Data columns (total 7 columns):\n",
      "bedrooms         14990 non-null float64\n",
      "bathrooms        14990 non-null float64\n",
      "sq_feet          14990 non-null float64\n",
      "property_tax     14989 non-null float64\n",
      "home_value       14990 non-null float64\n",
      "property_type    14990 non-null object\n",
      "fips             14990 non-null float64\n",
      "dtypes: float64(6), object(1)\n",
      "memory usage: 819.9+ KB\n"
     ]
    }
   ],
   "source": [
    "# check data\n",
    "df.info()"
   ]
  },
  {
   "cell_type": "code",
   "execution_count": 61,
   "metadata": {},
   "outputs": [
    {
     "data": {
      "text/html": [
       "<div>\n",
       "<style scoped>\n",
       "    .dataframe tbody tr th:only-of-type {\n",
       "        vertical-align: middle;\n",
       "    }\n",
       "\n",
       "    .dataframe tbody tr th {\n",
       "        vertical-align: top;\n",
       "    }\n",
       "\n",
       "    .dataframe thead th {\n",
       "        text-align: right;\n",
       "    }\n",
       "</style>\n",
       "<table border=\"1\" class=\"dataframe\">\n",
       "  <thead>\n",
       "    <tr style=\"text-align: right;\">\n",
       "      <th></th>\n",
       "      <th>bedrooms</th>\n",
       "      <th>bathrooms</th>\n",
       "      <th>sq_feet</th>\n",
       "      <th>property_tax</th>\n",
       "      <th>home_value</th>\n",
       "      <th>property_type</th>\n",
       "      <th>fips</th>\n",
       "    </tr>\n",
       "  </thead>\n",
       "  <tbody>\n",
       "    <tr>\n",
       "      <th>2670</th>\n",
       "      <td>5.0</td>\n",
       "      <td>5.5</td>\n",
       "      <td>5458.0</td>\n",
       "      <td>19452.06</td>\n",
       "      <td>1868000.0</td>\n",
       "      <td>Single Family Residential</td>\n",
       "      <td>6059.0</td>\n",
       "    </tr>\n",
       "    <tr>\n",
       "      <th>2494</th>\n",
       "      <td>3.0</td>\n",
       "      <td>2.0</td>\n",
       "      <td>988.0</td>\n",
       "      <td>1821.28</td>\n",
       "      <td>88417.0</td>\n",
       "      <td>Single Family Residential</td>\n",
       "      <td>6037.0</td>\n",
       "    </tr>\n",
       "  </tbody>\n",
       "</table>\n",
       "</div>"
      ],
      "text/plain": [
       "      bedrooms  bathrooms  sq_feet  property_tax  home_value  \\\n",
       "2670       5.0        5.5   5458.0      19452.06   1868000.0   \n",
       "2494       3.0        2.0    988.0       1821.28     88417.0   \n",
       "\n",
       "                  property_type    fips  \n",
       "2670  Single Family Residential  6059.0  \n",
       "2494  Single Family Residential  6037.0  "
      ]
     },
     "execution_count": 61,
     "metadata": {},
     "output_type": "execute_result"
    }
   ],
   "source": [
    "#check data\n",
    "df.sample(2)"
   ]
  },
  {
   "cell_type": "code",
   "execution_count": 62,
   "metadata": {},
   "outputs": [
    {
     "data": {
      "text/plain": [
       "(14989, 7)"
      ]
     },
     "execution_count": 62,
     "metadata": {},
     "output_type": "execute_result"
    }
   ],
   "source": [
    "df = clean_data(df)\n",
    "df.shape"
   ]
  },
  {
   "cell_type": "code",
   "execution_count": 63,
   "metadata": {},
   "outputs": [
    {
     "name": "stdout",
     "output_type": "stream",
     "text": [
      "<class 'pandas.core.frame.DataFrame'>\n",
      "Int64Index: 14989 entries, 0 to 14989\n",
      "Data columns (total 7 columns):\n",
      "bedrooms         14989 non-null int64\n",
      "bathrooms        14989 non-null float64\n",
      "sq_feet          14989 non-null int64\n",
      "property_tax     14989 non-null float64\n",
      "home_value       14989 non-null int64\n",
      "property_type    14989 non-null object\n",
      "fips             14989 non-null int64\n",
      "dtypes: float64(2), int64(4), object(1)\n",
      "memory usage: 936.8+ KB\n"
     ]
    }
   ],
   "source": [
    "df.info()"
   ]
  },
  {
   "cell_type": "code",
   "execution_count": 64,
   "metadata": {},
   "outputs": [
    {
     "data": {
      "text/html": [
       "<div>\n",
       "<style scoped>\n",
       "    .dataframe tbody tr th:only-of-type {\n",
       "        vertical-align: middle;\n",
       "    }\n",
       "\n",
       "    .dataframe tbody tr th {\n",
       "        vertical-align: top;\n",
       "    }\n",
       "\n",
       "    .dataframe thead th {\n",
       "        text-align: right;\n",
       "    }\n",
       "</style>\n",
       "<table border=\"1\" class=\"dataframe\">\n",
       "  <thead>\n",
       "    <tr style=\"text-align: right;\">\n",
       "      <th></th>\n",
       "      <th>bedrooms</th>\n",
       "      <th>bathrooms</th>\n",
       "      <th>sq_feet</th>\n",
       "      <th>property_tax</th>\n",
       "      <th>home_value</th>\n",
       "      <th>property_type</th>\n",
       "      <th>fips</th>\n",
       "      <th>tax_rate</th>\n",
       "    </tr>\n",
       "  </thead>\n",
       "  <tbody>\n",
       "    <tr>\n",
       "      <th>0</th>\n",
       "      <td>3</td>\n",
       "      <td>2.0</td>\n",
       "      <td>1458</td>\n",
       "      <td>2319.90</td>\n",
       "      <td>136104</td>\n",
       "      <td>Single Family Residential</td>\n",
       "      <td>6037</td>\n",
       "      <td>0.017045</td>\n",
       "    </tr>\n",
       "    <tr>\n",
       "      <th>1</th>\n",
       "      <td>2</td>\n",
       "      <td>1.0</td>\n",
       "      <td>1421</td>\n",
       "      <td>543.69</td>\n",
       "      <td>35606</td>\n",
       "      <td>Single Family Residential</td>\n",
       "      <td>6037</td>\n",
       "      <td>0.015270</td>\n",
       "    </tr>\n",
       "    <tr>\n",
       "      <th>2</th>\n",
       "      <td>4</td>\n",
       "      <td>3.0</td>\n",
       "      <td>2541</td>\n",
       "      <td>9819.72</td>\n",
       "      <td>880456</td>\n",
       "      <td>Single Family Residential</td>\n",
       "      <td>6059</td>\n",
       "      <td>0.011153</td>\n",
       "    </tr>\n",
       "    <tr>\n",
       "      <th>3</th>\n",
       "      <td>3</td>\n",
       "      <td>2.0</td>\n",
       "      <td>1650</td>\n",
       "      <td>7673.19</td>\n",
       "      <td>614000</td>\n",
       "      <td>Single Family Residential</td>\n",
       "      <td>6037</td>\n",
       "      <td>0.012497</td>\n",
       "    </tr>\n",
       "    <tr>\n",
       "      <th>4</th>\n",
       "      <td>2</td>\n",
       "      <td>1.0</td>\n",
       "      <td>693</td>\n",
       "      <td>3267.47</td>\n",
       "      <td>274237</td>\n",
       "      <td>Single Family Residential</td>\n",
       "      <td>6037</td>\n",
       "      <td>0.011915</td>\n",
       "    </tr>\n",
       "  </tbody>\n",
       "</table>\n",
       "</div>"
      ],
      "text/plain": [
       "   bedrooms  bathrooms  sq_feet  property_tax  home_value  \\\n",
       "0         3        2.0     1458       2319.90      136104   \n",
       "1         2        1.0     1421        543.69       35606   \n",
       "2         4        3.0     2541       9819.72      880456   \n",
       "3         3        2.0     1650       7673.19      614000   \n",
       "4         2        1.0      693       3267.47      274237   \n",
       "\n",
       "               property_type  fips  tax_rate  \n",
       "0  Single Family Residential  6037  0.017045  \n",
       "1  Single Family Residential  6037  0.015270  \n",
       "2  Single Family Residential  6059  0.011153  \n",
       "3  Single Family Residential  6037  0.012497  \n",
       "4  Single Family Residential  6037  0.011915  "
      ]
     },
     "execution_count": 64,
     "metadata": {},
     "output_type": "execute_result"
    }
   ],
   "source": [
    "df['tax_rate'] = df['property_tax']/df['home_value']\n",
    "df.head()"
   ]
  },
  {
   "cell_type": "code",
   "execution_count": 65,
   "metadata": {},
   "outputs": [
    {
     "data": {
      "text/html": [
       "<div>\n",
       "<style scoped>\n",
       "    .dataframe tbody tr th:only-of-type {\n",
       "        vertical-align: middle;\n",
       "    }\n",
       "\n",
       "    .dataframe tbody tr th {\n",
       "        vertical-align: top;\n",
       "    }\n",
       "\n",
       "    .dataframe thead th {\n",
       "        text-align: right;\n",
       "    }\n",
       "</style>\n",
       "<table border=\"1\" class=\"dataframe\">\n",
       "  <thead>\n",
       "    <tr style=\"text-align: right;\">\n",
       "      <th></th>\n",
       "      <th>fips</th>\n",
       "      <th>county_name</th>\n",
       "      <th>tax_rate</th>\n",
       "    </tr>\n",
       "  </thead>\n",
       "  <tbody>\n",
       "    <tr>\n",
       "      <th>0</th>\n",
       "      <td>6037</td>\n",
       "      <td>Los Angeles</td>\n",
       "      <td>0.017045</td>\n",
       "    </tr>\n",
       "    <tr>\n",
       "      <th>1</th>\n",
       "      <td>6037</td>\n",
       "      <td>Los Angeles</td>\n",
       "      <td>0.015270</td>\n",
       "    </tr>\n",
       "    <tr>\n",
       "      <th>2</th>\n",
       "      <td>6059</td>\n",
       "      <td>Orange</td>\n",
       "      <td>0.011153</td>\n",
       "    </tr>\n",
       "    <tr>\n",
       "      <th>3</th>\n",
       "      <td>6037</td>\n",
       "      <td>Los Angeles</td>\n",
       "      <td>0.012497</td>\n",
       "    </tr>\n",
       "    <tr>\n",
       "      <th>4</th>\n",
       "      <td>6037</td>\n",
       "      <td>Los Angeles</td>\n",
       "      <td>0.011915</td>\n",
       "    </tr>\n",
       "  </tbody>\n",
       "</table>\n",
       "</div>"
      ],
      "text/plain": [
       "   fips  county_name  tax_rate\n",
       "0  6037  Los Angeles  0.017045\n",
       "1  6037  Los Angeles  0.015270\n",
       "2  6059       Orange  0.011153\n",
       "3  6037  Los Angeles  0.012497\n",
       "4  6037  Los Angeles  0.011915"
      ]
     },
     "execution_count": 65,
     "metadata": {},
     "output_type": "execute_result"
    }
   ],
   "source": [
    "fips_dict = {6037: \"Los Angeles\", 6059: \"Orange\", 6111: \"Ventura\"}\n",
    "\n",
    "df['county_name'] = df['fips'].map(fips_dict)\n",
    "df.head()\n",
    "df_county = df[['fips', 'county_name','tax_rate']]\n",
    "df_county.head()"
   ]
  },
  {
   "cell_type": "code",
   "execution_count": 66,
   "metadata": {},
   "outputs": [
    {
     "data": {
      "text/plain": [
       "county_name\n",
       "Los Angeles    9604\n",
       "Orange         4094\n",
       "Ventura        1291\n",
       "Name: tax_rate, dtype: int64"
      ]
     },
     "execution_count": 66,
     "metadata": {},
     "output_type": "execute_result"
    }
   ],
   "source": [
    "df_county.groupby('county_name').tax_rate.count()"
   ]
  },
  {
   "cell_type": "code",
   "execution_count": 67,
   "metadata": {},
   "outputs": [
    {
     "data": {
      "text/plain": [
       "county_name\n",
       "Los Angeles    0.014173\n",
       "Orange         0.012121\n",
       "Ventura        0.012054\n",
       "Name: tax_rate, dtype: float64"
      ]
     },
     "execution_count": 67,
     "metadata": {},
     "output_type": "execute_result"
    }
   ],
   "source": [
    "df_county.groupby('county_name').tax_rate.mean()"
   ]
  },
  {
   "cell_type": "code",
   "execution_count": 99,
   "metadata": {},
   "outputs": [
    {
     "data": {
      "image/png": "[encoded data removed]",
      "text/plain": [
       "<Figure size 1152x720 with 3 Axes>"
      ]
     },
     "metadata": {
      "needs_background": "light"
     },
     "output_type": "display_data"
    }
   ],
   "source": [
    "plt.figure(figsize=(16, 10))\n",
    "plt.suptitle(\"Tax Rates by County\", fontsize=14)\n",
    "plt.subplot(331)\n",
    "sns.distplot(df_county[df_county.county_name == \"Los Angeles\"].tax_rate)\n",
    "plt.xlim(0, .06)\n",
    "plt.ylim(0, 400)\n",
    "plt.title(\"Los Angeles\")\n",
    "plt.subplot(332)\n",
    "sns.distplot(df_county[df_county.county_name == \"Orange\"].tax_rate)\n",
    "plt.xlim(0, .06)\n",
    "plt.ylim(0, 400)\n",
    "plt.title(\"Orange\")\n",
    "plt.subplot(333)\n",
    "sns.distplot(df_county[df_county.county_name == \"Ventura\"].tax_rate)\n",
    "plt.xlim(0, .06)\n",
    "plt.ylim(0, 400)\n",
    "plt.title(\"Ventura\")\n",
    "plt.show()"
   ]
  },
  {
   "cell_type": "code",
   "execution_count": 69,
   "metadata": {},
   "outputs": [
    {
     "data": {
      "text/plain": [
       "(       bedrooms  bathrooms  sq_feet  property_tax  home_value  \\\n",
       " 4153          3        2.0     1296       1632.84      122457   \n",
       " 9185          3        2.0     1909       3605.27      294498   \n",
       " 6399          4        2.5     1964       1291.02       86907   \n",
       " 11378         5        3.0     2772       7402.90      559187   \n",
       " 9935          2        1.0     1015       2252.18      172499   \n",
       " \n",
       "                    property_type  fips  tax_rate  county_name  \n",
       " 4153   Single Family Residential  6059  0.013334       Orange  \n",
       " 9185   Single Family Residential  6037  0.012242  Los Angeles  \n",
       " 6399   Single Family Residential  6059  0.014855       Orange  \n",
       " 11378  Single Family Residential  6037  0.013239  Los Angeles  \n",
       " 9935   Single Family Residential  6037  0.013056  Los Angeles  ,\n",
       "       bedrooms  bathrooms  sq_feet  property_tax  home_value  \\\n",
       " 3144         4        3.0     2774       4309.47      286000   \n",
       " 6315         4        3.0     2142       8822.75      750000   \n",
       " 2442         3        2.0     2150       4161.99      279000   \n",
       " 4483         4        4.0     3359       6895.67      559002   \n",
       " 9536         4        3.5     2743      12796.32     1177495   \n",
       " \n",
       "                   property_type  fips  tax_rate  county_name  \n",
       " 3144  Single Family Residential  6037  0.015068  Los Angeles  \n",
       " 6315  Single Family Residential  6037  0.011764  Los Angeles  \n",
       " 2442  Single Family Residential  6037  0.014918  Los Angeles  \n",
       " 4483  Single Family Residential  6037  0.012336  Los Angeles  \n",
       " 9536  Single Family Residential  6059  0.010867       Orange  )"
      ]
     },
     "execution_count": 69,
     "metadata": {},
     "output_type": "execute_result"
    }
   ],
   "source": [
    "\n",
    "train, test = split_scale.split_my_data(df, train_pct=.80, seed=123)\n",
    "train.head(), test.head()"
   ]
  },
  {
   "cell_type": "code",
   "execution_count": 70,
   "metadata": {},
   "outputs": [
    {
     "data": {
      "text/plain": [
       "((11991, 9), (2998, 9))"
      ]
     },
     "execution_count": 70,
     "metadata": {},
     "output_type": "execute_result"
    }
   ],
   "source": [
    "train.shape, test.shape"
   ]
  },
  {
   "cell_type": "code",
   "execution_count": 71,
   "metadata": {},
   "outputs": [],
   "source": [
    "X_train = train[['bedrooms', 'bathrooms', 'sq_feet']]\n",
    "y_train = train[['home_value']]\n",
    "X_test = train[['bedrooms', 'bathrooms', 'sq_feet']]\n",
    "y_test = train[['home_value']]"
   ]
  },
  {
   "cell_type": "code",
   "execution_count": 72,
   "metadata": {},
   "outputs": [
    {
     "data": {
      "text/plain": [
       "StandardScaler(copy=True, with_mean=True, with_std=True)"
      ]
     },
     "execution_count": 72,
     "metadata": {},
     "output_type": "execute_result"
    }
   ],
   "source": [
    "scaler, X_train, X_test = split_scale.standard_scaler(X_train, X_test)\n",
    "scaler"
   ]
  },
  {
   "cell_type": "code",
   "execution_count": 73,
   "metadata": {},
   "outputs": [
    {
     "data": {
      "text/html": [
       "<div>\n",
       "<style scoped>\n",
       "    .dataframe tbody tr th:only-of-type {\n",
       "        vertical-align: middle;\n",
       "    }\n",
       "\n",
       "    .dataframe tbody tr th {\n",
       "        vertical-align: top;\n",
       "    }\n",
       "\n",
       "    .dataframe thead th {\n",
       "        text-align: right;\n",
       "    }\n",
       "</style>\n",
       "<table border=\"1\" class=\"dataframe\">\n",
       "  <thead>\n",
       "    <tr style=\"text-align: right;\">\n",
       "      <th></th>\n",
       "      <th>bedrooms</th>\n",
       "      <th>bathrooms</th>\n",
       "      <th>sq_feet</th>\n",
       "    </tr>\n",
       "  </thead>\n",
       "  <tbody>\n",
       "    <tr>\n",
       "      <th>4153</th>\n",
       "      <td>-0.339921</td>\n",
       "      <td>-0.321951</td>\n",
       "      <td>-0.643152</td>\n",
       "    </tr>\n",
       "    <tr>\n",
       "      <th>9185</th>\n",
       "      <td>-0.339921</td>\n",
       "      <td>-0.321951</td>\n",
       "      <td>-0.036767</td>\n",
       "    </tr>\n",
       "    <tr>\n",
       "      <th>6399</th>\n",
       "      <td>0.725419</td>\n",
       "      <td>0.167093</td>\n",
       "      <td>0.017639</td>\n",
       "    </tr>\n",
       "    <tr>\n",
       "      <th>11378</th>\n",
       "      <td>1.790759</td>\n",
       "      <td>0.656137</td>\n",
       "      <td>0.816919</td>\n",
       "    </tr>\n",
       "    <tr>\n",
       "      <th>9935</th>\n",
       "      <td>-1.405261</td>\n",
       "      <td>-1.300039</td>\n",
       "      <td>-0.921119</td>\n",
       "    </tr>\n",
       "  </tbody>\n",
       "</table>\n",
       "</div>"
      ],
      "text/plain": [
       "       bedrooms  bathrooms   sq_feet\n",
       "4153  -0.339921  -0.321951 -0.643152\n",
       "9185  -0.339921  -0.321951 -0.036767\n",
       "6399   0.725419   0.167093  0.017639\n",
       "11378  1.790759   0.656137  0.816919\n",
       "9935  -1.405261  -1.300039 -0.921119"
      ]
     },
     "execution_count": 73,
     "metadata": {},
     "output_type": "execute_result"
    }
   ],
   "source": [
    "X_train.head()"
   ]
  },
  {
   "cell_type": "code",
   "execution_count": 74,
   "metadata": {},
   "outputs": [
    {
     "data": {
      "text/plain": [
       "<seaborn.axisgrid.PairGrid at 0x12f8cc210>"
      ]
     },
     "execution_count": 74,
     "metadata": {},
     "output_type": "execute_result"
    },
    {
     "data": {
      "image/png": "[encoded data removed]",
      "text/plain": [
       "<Figure size 540x540 with 12 Axes>"
      ]
     },
     "metadata": {
      "needs_background": "light"
     },
     "output_type": "display_data"
    }
   ],
   "source": [
    "g = sns.PairGrid(X_train)\n",
    "g.map_diag(plt.hist)\n",
    "g.map_offdiag(plt.scatter)"
   ]
  },
  {
   "cell_type": "code",
   "execution_count": 75,
   "metadata": {},
   "outputs": [
    {
     "data": {
      "image/png": "[encoded data removed]",
      "text/plain": [
       "<Figure size 432x360 with 2 Axes>"
      ]
     },
     "metadata": {
      "needs_background": "light"
     },
     "output_type": "display_data"
    }
   ],
   "source": [
    "plt.figure(figsize=(6,5))\n",
    "sns.heatmap(train.corr(), annot=True, cmap=plt.cm.Blues)\n",
    "plt.show()"
   ]
  },
  {
   "cell_type": "code",
   "execution_count": 76,
   "metadata": {},
   "outputs": [
    {
     "data": {
      "text/html": [
       "<table class=\"simpletable\">\n",
       "<caption>OLS Regression Results</caption>\n",
       "<tr>\n",
       "  <th>Dep. Variable:</th>       <td>home_value</td>    <th>  R-squared (uncentered):</th>       <td>   0.246</td>  \n",
       "</tr>\n",
       "<tr>\n",
       "  <th>Model:</th>                   <td>OLS</td>       <th>  Adj. R-squared (uncentered):</th>  <td>   0.246</td>  \n",
       "</tr>\n",
       "<tr>\n",
       "  <th>Method:</th>             <td>Least Squares</td>  <th>  F-statistic:       </th>           <td>   1307.</td>  \n",
       "</tr>\n",
       "<tr>\n",
       "  <th>Date:</th>             <td>Mon, 13 Apr 2020</td> <th>  Prob (F-statistic):</th>            <td>  0.00</td>   \n",
       "</tr>\n",
       "<tr>\n",
       "  <th>Time:</th>                 <td>08:10:23</td>     <th>  Log-Likelihood:    </th>          <td>-1.8020e+05</td>\n",
       "</tr>\n",
       "<tr>\n",
       "  <th>No. Observations:</th>      <td> 11991</td>      <th>  AIC:               </th>           <td>3.604e+05</td> \n",
       "</tr>\n",
       "<tr>\n",
       "  <th>Df Residuals:</th>          <td> 11988</td>      <th>  BIC:               </th>           <td>3.604e+05</td> \n",
       "</tr>\n",
       "<tr>\n",
       "  <th>Df Model:</th>              <td>     3</td>      <th>                     </th>               <td> </td>     \n",
       "</tr>\n",
       "<tr>\n",
       "  <th>Covariance Type:</th>      <td>nonrobust</td>    <th>                     </th>               <td> </td>     \n",
       "</tr>\n",
       "</table>\n",
       "<table class=\"simpletable\">\n",
       "<tr>\n",
       "      <td></td>         <th>coef</th>     <th>std err</th>      <th>t</th>      <th>P>|t|</th>  <th>[0.025</th>    <th>0.975]</th>  \n",
       "</tr>\n",
       "<tr>\n",
       "  <th>bedrooms</th>  <td>-1.427e+05</td> <td> 9920.001</td> <td>  -14.385</td> <td> 0.000</td> <td>-1.62e+05</td> <td>-1.23e+05</td>\n",
       "</tr>\n",
       "<tr>\n",
       "  <th>bathrooms</th> <td>  5.85e+04</td> <td> 1.47e+04</td> <td>    3.970</td> <td> 0.000</td> <td> 2.96e+04</td> <td> 8.74e+04</td>\n",
       "</tr>\n",
       "<tr>\n",
       "  <th>sq_feet</th>   <td> 4.927e+05</td> <td> 1.45e+04</td> <td>   33.935</td> <td> 0.000</td> <td> 4.64e+05</td> <td> 5.21e+05</td>\n",
       "</tr>\n",
       "</table>\n",
       "<table class=\"simpletable\">\n",
       "<tr>\n",
       "  <th>Omnibus:</th>       <td>19941.565</td> <th>  Durbin-Watson:     </th>   <td>   1.114</td>  \n",
       "</tr>\n",
       "<tr>\n",
       "  <th>Prob(Omnibus):</th>  <td> 0.000</td>   <th>  Jarque-Bera (JB):  </th> <td>35123180.380</td>\n",
       "</tr>\n",
       "<tr>\n",
       "  <th>Skew:</th>           <td>10.889</td>   <th>  Prob(JB):          </th>   <td>    0.00</td>  \n",
       "</tr>\n",
       "<tr>\n",
       "  <th>Kurtosis:</th>       <td>267.244</td>  <th>  Cond. No.          </th>   <td>    4.06</td>  \n",
       "</tr>\n",
       "</table><br/><br/>Warnings:<br/>[1] Standard Errors assume that the covariance matrix of the errors is correctly specified."
      ],
      "text/plain": [
       "<class 'statsmodels.iolib.summary.Summary'>\n",
       "\"\"\"\n",
       "                                 OLS Regression Results                                \n",
       "=======================================================================================\n",
       "Dep. Variable:             home_value   R-squared (uncentered):                   0.246\n",
       "Model:                            OLS   Adj. R-squared (uncentered):              0.246\n",
       "Method:                 Least Squares   F-statistic:                              1307.\n",
       "Date:                Mon, 13 Apr 2020   Prob (F-statistic):                        0.00\n",
       "Time:                        08:10:23   Log-Likelihood:                     -1.8020e+05\n",
       "No. Observations:               11991   AIC:                                  3.604e+05\n",
       "Df Residuals:                   11988   BIC:                                  3.604e+05\n",
       "Df Model:                           3                                                  \n",
       "Covariance Type:            nonrobust                                                  \n",
       "==============================================================================\n",
       "                 coef    std err          t      P>|t|      [0.025      0.975]\n",
       "------------------------------------------------------------------------------\n",
       "bedrooms   -1.427e+05   9920.001    -14.385      0.000   -1.62e+05   -1.23e+05\n",
       "bathrooms    5.85e+04   1.47e+04      3.970      0.000    2.96e+04    8.74e+04\n",
       "sq_feet     4.927e+05   1.45e+04     33.935      0.000    4.64e+05    5.21e+05\n",
       "==============================================================================\n",
       "Omnibus:                    19941.565   Durbin-Watson:                   1.114\n",
       "Prob(Omnibus):                  0.000   Jarque-Bera (JB):         35123180.380\n",
       "Skew:                          10.889   Prob(JB):                         0.00\n",
       "Kurtosis:                     267.244   Cond. No.                         4.06\n",
       "==============================================================================\n",
       "\n",
       "Warnings:\n",
       "[1] Standard Errors assume that the covariance matrix of the errors is correctly specified.\n",
       "\"\"\""
      ]
     },
     "execution_count": 76,
     "metadata": {},
     "output_type": "execute_result"
    }
   ],
   "source": [
    "ols_model = sm.OLS(y_train, X_train).fit()\n",
    "ols_model.summary()"
   ]
  },
  {
   "cell_type": "code",
   "execution_count": 77,
   "metadata": {},
   "outputs": [
    {
     "data": {
      "text/html": [
       "<div>\n",
       "<style scoped>\n",
       "    .dataframe tbody tr th:only-of-type {\n",
       "        vertical-align: middle;\n",
       "    }\n",
       "\n",
       "    .dataframe tbody tr th {\n",
       "        vertical-align: top;\n",
       "    }\n",
       "\n",
       "    .dataframe thead th {\n",
       "        text-align: right;\n",
       "    }\n",
       "</style>\n",
       "<table border=\"1\" class=\"dataframe\">\n",
       "  <thead>\n",
       "    <tr style=\"text-align: right;\">\n",
       "      <th></th>\n",
       "      <th>actual</th>\n",
       "    </tr>\n",
       "  </thead>\n",
       "  <tbody>\n",
       "    <tr>\n",
       "      <th>4153</th>\n",
       "      <td>122457</td>\n",
       "    </tr>\n",
       "    <tr>\n",
       "      <th>9185</th>\n",
       "      <td>294498</td>\n",
       "    </tr>\n",
       "    <tr>\n",
       "      <th>6399</th>\n",
       "      <td>86907</td>\n",
       "    </tr>\n",
       "    <tr>\n",
       "      <th>11378</th>\n",
       "      <td>559187</td>\n",
       "    </tr>\n",
       "    <tr>\n",
       "      <th>9935</th>\n",
       "      <td>172499</td>\n",
       "    </tr>\n",
       "  </tbody>\n",
       "</table>\n",
       "</div>"
      ],
      "text/plain": [
       "       actual\n",
       "4153   122457\n",
       "9185   294498\n",
       "6399    86907\n",
       "11378  559187\n",
       "9935   172499"
      ]
     },
     "execution_count": 77,
     "metadata": {},
     "output_type": "execute_result"
    }
   ],
   "source": [
    "predictions = pd.DataFrame({\"actual\": train.home_value})\n",
    "predictions.head()"
   ]
  },
  {
   "cell_type": "code",
   "execution_count": 78,
   "metadata": {},
   "outputs": [
    {
     "data": {
      "text/html": [
       "<div>\n",
       "<style scoped>\n",
       "    .dataframe tbody tr th:only-of-type {\n",
       "        vertical-align: middle;\n",
       "    }\n",
       "\n",
       "    .dataframe tbody tr th {\n",
       "        vertical-align: top;\n",
       "    }\n",
       "\n",
       "    .dataframe thead th {\n",
       "        text-align: right;\n",
       "    }\n",
       "</style>\n",
       "<table border=\"1\" class=\"dataframe\">\n",
       "  <thead>\n",
       "    <tr style=\"text-align: right;\">\n",
       "      <th></th>\n",
       "      <th>actual</th>\n",
       "      <th>baseline</th>\n",
       "    </tr>\n",
       "  </thead>\n",
       "  <tbody>\n",
       "    <tr>\n",
       "      <th>4153</th>\n",
       "      <td>122457</td>\n",
       "      <td>547420.3777</td>\n",
       "    </tr>\n",
       "    <tr>\n",
       "      <th>9185</th>\n",
       "      <td>294498</td>\n",
       "      <td>547420.3777</td>\n",
       "    </tr>\n",
       "    <tr>\n",
       "      <th>6399</th>\n",
       "      <td>86907</td>\n",
       "      <td>547420.3777</td>\n",
       "    </tr>\n",
       "    <tr>\n",
       "      <th>11378</th>\n",
       "      <td>559187</td>\n",
       "      <td>547420.3777</td>\n",
       "    </tr>\n",
       "    <tr>\n",
       "      <th>9935</th>\n",
       "      <td>172499</td>\n",
       "      <td>547420.3777</td>\n",
       "    </tr>\n",
       "  </tbody>\n",
       "</table>\n",
       "</div>"
      ],
      "text/plain": [
       "       actual     baseline\n",
       "4153   122457  547420.3777\n",
       "9185   294498  547420.3777\n",
       "6399    86907  547420.3777\n",
       "11378  559187  547420.3777\n",
       "9935   172499  547420.3777"
      ]
     },
     "execution_count": 78,
     "metadata": {},
     "output_type": "execute_result"
    }
   ],
   "source": [
    "predictions['baseline'] = train.home_value.mean()\n",
    "predictions.head()"
   ]
  },
  {
   "cell_type": "code",
   "execution_count": 79,
   "metadata": {},
   "outputs": [],
   "source": [
    "X = X_train\n",
    "\n",
    "y = y_train\n",
    "\n",
    "lm = LinearRegression()\n",
    "\n",
    "lm.fit(X, y)\n",
    "\n",
    "predictions['simple_lm'] = lm.predict(X)"
   ]
  },
  {
   "cell_type": "code",
   "execution_count": 93,
   "metadata": {},
   "outputs": [],
   "source": [
    "X = X_train[['bedrooms']]\n",
    "\n",
    "y = y_train\n",
    "\n",
    "lm = LinearRegression()\n",
    "\n",
    "lm.fit(X, y)\n",
    "\n",
    "predictions['just_bedrooms'] = lm.predict(X)"
   ]
  },
  {
   "cell_type": "code",
   "execution_count": 95,
   "metadata": {},
   "outputs": [],
   "source": [
    "X = X_train[['bathrooms']]\n",
    "\n",
    "y = y_train\n",
    "\n",
    "lm = LinearRegression()\n",
    "\n",
    "lm.fit(X, y)\n",
    "\n",
    "predictions['just_bathrooms'] = lm.predict(X)"
   ]
  },
  {
   "cell_type": "code",
   "execution_count": 94,
   "metadata": {},
   "outputs": [],
   "source": [
    "X = X_train[['sq_feet']]\n",
    "\n",
    "y = y_train\n",
    "\n",
    "lm = LinearRegression()\n",
    "\n",
    "lm.fit(X, y)\n",
    "\n",
    "predictions['just_area'] = lm.predict(X)"
   ]
  },
  {
   "cell_type": "code",
   "execution_count": null,
   "metadata": {},
   "outputs": [],
   "source": []
  },
  {
   "cell_type": "code",
   "execution_count": 80,
   "metadata": {},
   "outputs": [
    {
     "name": "stdout",
     "output_type": "stream",
     "text": [
      "selected top 2 features: Index(['bedrooms', 'sq_feet'], dtype='object')\n"
     ]
    },
    {
     "data": {
      "text/html": [
       "<div>\n",
       "<style scoped>\n",
       "    .dataframe tbody tr th:only-of-type {\n",
       "        vertical-align: middle;\n",
       "    }\n",
       "\n",
       "    .dataframe tbody tr th {\n",
       "        vertical-align: top;\n",
       "    }\n",
       "\n",
       "    .dataframe thead th {\n",
       "        text-align: right;\n",
       "    }\n",
       "</style>\n",
       "<table border=\"1\" class=\"dataframe\">\n",
       "  <thead>\n",
       "    <tr style=\"text-align: right;\">\n",
       "      <th></th>\n",
       "      <th>actual</th>\n",
       "      <th>baseline</th>\n",
       "      <th>simple_lm</th>\n",
       "      <th>multiple_rfe</th>\n",
       "    </tr>\n",
       "  </thead>\n",
       "  <tbody>\n",
       "    <tr>\n",
       "      <th>4153</th>\n",
       "      <td>122457</td>\n",
       "      <td>547420.3777</td>\n",
       "      <td>260189.269719</td>\n",
       "      <td>247622.793050</td>\n",
       "    </tr>\n",
       "    <tr>\n",
       "      <th>9185</th>\n",
       "      <td>294498</td>\n",
       "      <td>547420.3777</td>\n",
       "      <td>558976.493286</td>\n",
       "      <td>572694.468918</td>\n",
       "    </tr>\n",
       "  </tbody>\n",
       "</table>\n",
       "</div>"
      ],
      "text/plain": [
       "      actual     baseline      simple_lm   multiple_rfe\n",
       "4153  122457  547420.3777  260189.269719  247622.793050\n",
       "9185  294498  547420.3777  558976.493286  572694.468918"
      ]
     },
     "execution_count": 80,
     "metadata": {},
     "output_type": "execute_result"
    }
   ],
   "source": [
    "X = X_train\n",
    "y = y_train\n",
    "\n",
    "k = 2\n",
    "lm = LinearRegression()\n",
    "\n",
    "rfe = RFE(lm, k)\n",
    "rfe.fit(X, y)\n",
    "print('selected top 2 features:', X.columns[rfe.support_])\n",
    "\n",
    "X_rfe = rfe.transform(X)\n",
    "lm.fit(X_rfe, y)\n",
    "predictions['multiple_rfe'] = lm.predict(X_rfe)\n",
    "predictions.head(2)"
   ]
  },
  {
   "cell_type": "code",
   "execution_count": 89,
   "metadata": {},
   "outputs": [
    {
     "data": {
      "text/plain": [
       "bedrooms             -3.010731e-16\n",
       "bathrooms             1.735748e-16\n",
       "sq_feet               1.047495e-16\n",
       "bedrooms bathrooms    6.442735e-01\n",
       "bedrooms sq_feet      6.304494e-01\n",
       "bathrooms sq_feet     8.526374e-01\n",
       "dtype: float64"
      ]
     },
     "execution_count": 89,
     "metadata": {},
     "output_type": "execute_result"
    }
   ],
   "source": [
    "X = X_train\n",
    "y = y_train\n",
    "\n",
    "# 1. Generate Polynomial Features\n",
    "poly = PolynomialFeatures(degree=2, include_bias=False, interaction_only=True)\n",
    "poly.fit(X)\n",
    "X_poly = pd.DataFrame(poly.transform(X), columns=poly.get_feature_names(X.columns))\n",
    "X_poly.mean()"
   ]
  },
  {
   "cell_type": "code",
   "execution_count": 96,
   "metadata": {},
   "outputs": [
    {
     "data": {
      "text/html": [
       "<div>\n",
       "<style scoped>\n",
       "    .dataframe tbody tr th:only-of-type {\n",
       "        vertical-align: middle;\n",
       "    }\n",
       "\n",
       "    .dataframe tbody tr th {\n",
       "        vertical-align: top;\n",
       "    }\n",
       "\n",
       "    .dataframe thead th {\n",
       "        text-align: right;\n",
       "    }\n",
       "</style>\n",
       "<table border=\"1\" class=\"dataframe\">\n",
       "  <thead>\n",
       "    <tr style=\"text-align: right;\">\n",
       "      <th></th>\n",
       "      <th>actual</th>\n",
       "      <th>baseline</th>\n",
       "      <th>simple_lm</th>\n",
       "      <th>multiple_rfe</th>\n",
       "      <th>polynomial</th>\n",
       "      <th>just_bedrooms</th>\n",
       "      <th>just_area</th>\n",
       "      <th>just_bathrooms</th>\n",
       "    </tr>\n",
       "  </thead>\n",
       "  <tbody>\n",
       "    <tr>\n",
       "      <th>4153</th>\n",
       "      <td>122457</td>\n",
       "      <td>547420.3777</td>\n",
       "      <td>260189.269719</td>\n",
       "      <td>247622.793050</td>\n",
       "      <td>323349.039190</td>\n",
       "      <td>477520.760127</td>\n",
       "      <td>256298.005792</td>\n",
       "      <td>422926.239366</td>\n",
       "    </tr>\n",
       "    <tr>\n",
       "      <th>9185</th>\n",
       "      <td>294498</td>\n",
       "      <td>547420.3777</td>\n",
       "      <td>558976.493286</td>\n",
       "      <td>572694.468918</td>\n",
       "      <td>460740.144847</td>\n",
       "      <td>477520.760127</td>\n",
       "      <td>530777.765606</td>\n",
       "      <td>422926.239366</td>\n",
       "    </tr>\n",
       "    <tr>\n",
       "      <th>6399</th>\n",
       "      <td>86907</td>\n",
       "      <td>547420.3777</td>\n",
       "      <td>462369.710992</td>\n",
       "      <td>460876.389872</td>\n",
       "      <td>420301.900549</td>\n",
       "      <td>696591.934805</td>\n",
       "      <td>555404.823990</td>\n",
       "      <td>612033.056286</td>\n",
       "    </tr>\n",
       "    <tr>\n",
       "      <th>11378</th>\n",
       "      <td>559187</td>\n",
       "      <td>547420.3777</td>\n",
       "      <td>732788.669883</td>\n",
       "      <td>748371.478736</td>\n",
       "      <td>652202.128260</td>\n",
       "      <td>915663.109483</td>\n",
       "      <td>917198.699895</td>\n",
       "      <td>801139.873206</td>\n",
       "    </tr>\n",
       "    <tr>\n",
       "      <th>9935</th>\n",
       "      <td>172499</td>\n",
       "      <td>547420.3777</td>\n",
       "      <td>218030.655487</td>\n",
       "      <td>239593.892086</td>\n",
       "      <td>319122.045808</td>\n",
       "      <td>258449.585449</td>\n",
       "      <td>130476.125682</td>\n",
       "      <td>44712.605526</td>\n",
       "    </tr>\n",
       "  </tbody>\n",
       "</table>\n",
       "</div>"
      ],
      "text/plain": [
       "       actual     baseline      simple_lm   multiple_rfe     polynomial  \\\n",
       "4153   122457  547420.3777  260189.269719  247622.793050  323349.039190   \n",
       "9185   294498  547420.3777  558976.493286  572694.468918  460740.144847   \n",
       "6399    86907  547420.3777  462369.710992  460876.389872  420301.900549   \n",
       "11378  559187  547420.3777  732788.669883  748371.478736  652202.128260   \n",
       "9935   172499  547420.3777  218030.655487  239593.892086  319122.045808   \n",
       "\n",
       "       just_bedrooms      just_area  just_bathrooms  \n",
       "4153   477520.760127  256298.005792   422926.239366  \n",
       "9185   477520.760127  530777.765606   422926.239366  \n",
       "6399   696591.934805  555404.823990   612033.056286  \n",
       "11378  915663.109483  917198.699895   801139.873206  \n",
       "9935   258449.585449  130476.125682    44712.605526  "
      ]
     },
     "execution_count": 96,
     "metadata": {},
     "output_type": "execute_result"
    }
   ],
   "source": [
    "lm = LinearRegression()\n",
    "lm.fit(X_poly, y)\n",
    "\n",
    "predictions['polynomial'] = lm.predict(X_poly)\n",
    "predictions.head()"
   ]
  },
  {
   "cell_type": "code",
   "execution_count": 97,
   "metadata": {},
   "outputs": [
    {
     "data": {
      "text/plain": [
       "actual                 0.000000\n",
       "baseline          760413.949795\n",
       "simple_lm         601594.364887\n",
       "multiple_rfe      602316.677613\n",
       "polynomial        575420.843116\n",
       "just_bedrooms     732081.712493\n",
       "just_area         611013.640711\n",
       "just_bathrooms    654753.904270\n",
       "dtype: float64"
      ]
     },
     "execution_count": 97,
     "metadata": {},
     "output_type": "execute_result"
    }
   ],
   "source": [
    "predictions.apply(lambda c: mean_squared_error(predictions.actual, c))**.5"
   ]
  },
  {
   "cell_type": "code",
   "execution_count": 98,
   "metadata": {},
   "outputs": [
    {
     "data": {
      "text/plain": [
       "actual            1.000000\n",
       "baseline          0.000000\n",
       "simple_lm         0.374097\n",
       "multiple_rfe      0.372593\n",
       "polynomial        0.427374\n",
       "just_bedrooms     0.073130\n",
       "just_area         0.354343\n",
       "just_bathrooms    0.258594\n",
       "dtype: float64"
      ]
     },
     "execution_count": 98,
     "metadata": {},
     "output_type": "execute_result"
    }
   ],
   "source": [
    "predictions.apply(lambda c: r2_score(predictions.actual, c))"
   ]
  },
  {
   "cell_type": "code",
   "execution_count": null,
   "metadata": {},
   "outputs": [],
   "source": [
    "predictions[]"
   ]
  },
  {
   "cell_type": "code",
   "execution_count": null,
   "metadata": {},
   "outputs": [],
   "source": []
  },
  {
   "cell_type": "code",
   "execution_count": null,
   "metadata": {},
   "outputs": [],
   "source": []
  },
  {
   "cell_type": "code",
   "execution_count": null,
   "metadata": {},
   "outputs": [],
   "source": []
  },
  {
   "cell_type": "code",
   "execution_count": null,
   "metadata": {},
   "outputs": [],
   "source": []
  }
 ],
 "metadata": {
  "kernelspec": {
   "display_name": "Python 3",
   "language": "python",
   "name": "python3"
  },
  "language_info": {
   "codemirror_mode": {
    "name": "ipython",
    "version": 3
   },
   "file_extension": ".py",
   "mimetype": "text/x-python",
   "name": "python",
   "nbconvert_exporter": "python",
   "pygments_lexer": "ipython3",
   "version": "3.7.4"
  }
 },
 "nbformat": 4,
 "nbformat_minor": 2
}
