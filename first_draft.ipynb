{
 "cells": [
  {
   "cell_type": "markdown",
   "metadata": {},
   "source": [
    "# Acquire and Prep"
   ]
  },
  {
   "cell_type": "code",
   "execution_count": null,
   "metadata": {},
   "outputs": [],
   "source": [
    "import pandas as pd\n",
    "import numpy as np\n"
   ]
  },
  {
   "cell_type": "markdown",
   "metadata": {},
   "source": [
    "## Acquire\n",
    "\n",
    "### Using Sequel Pro Database GUI builiding out a query to acquire Zillow housing data from Zillow Database"
   ]
  },
  {
   "cell_type": "code",
   "execution_count": 1,
   "metadata": {},
   "outputs": [],
   "source": [
    "def acquire(db):\n",
    "    \"\"\" \"\"\"\n",
    "    import pandas as pd\n",
    "    import numpy as np\n",
    "    from env import get_db\n",
    "    url = get_db(db)\n",
    "    sql = \"\"\"SELECT bedroomcnt as bedroom, \n",
    "    bathroomcnt as bathroom, \n",
    "    calculatedfinishedsquarefeet as square_feet,\n",
    "    taxamount as tax_amount, \n",
    "    taxvaluedollarcnt as home_value, \n",
    "    proptype.propertylandusedesc as property_type, \n",
    "    fips\n",
    "    FROM properties_2017 AS prop\n",
    "    JOIN predictions_2017 AS pred USING (parcelid)\n",
    "    JOIN propertylandusetype AS proptype USING (propertylandusetypeid)\n",
    "    WHERE (transactiondate >= '2017-05-01' AND transactiondate <= '2017-06-30')\n",
    "    AND (propertylandusedesc = 'Single Family Residential')\n",
    "    AND prop.bedroomcnt > 0\n",
    "    AND prop.bathroomcnt > 0\n",
    "    AND prop.taxvaluedollarcnt > 0\n",
    "    AND prop.lotsizesquarefeet > 0\n",
    "    ORDER BY fips;\n",
    "    \"\"\"\n",
    "    df = pd.read_sql(sql, url)\n",
    "    return df\n",
    "    "
   ]
  },
  {
   "cell_type": "code",
   "execution_count": 2,
   "metadata": {},
   "outputs": [
    {
     "ename": "SyntaxError",
     "evalue": "invalid syntax (<ipython-input-2-7833088b626d>, line 3)",
     "output_type": "error",
     "traceback": [
      "\u001b[0;36m  File \u001b[0;32m\"<ipython-input-2-7833088b626d>\"\u001b[0;36m, line \u001b[0;32m3\u001b[0m\n\u001b[0;31m    full sql query:\u001b[0m\n\u001b[0m           ^\u001b[0m\n\u001b[0;31mSyntaxError\u001b[0m\u001b[0;31m:\u001b[0m invalid syntax\n"
     ]
    }
   ],
   "source": [
    "# #### if time allows this is all the information that I would be interested in looking at\n",
    "\n",
    "# full sql query:\n",
    "# sql_full = \"\"\"SELECT parcelid, bathroomcnt, bedroomcnt, calculatedbathnbr, \n",
    "#             calculatedfinishedsquarefeet, fips, `lotsizesquarefeet`, `garagecarcnt`,\n",
    "#             `garagetotalsqft`, `propertylandusedesc`, regionidcity, regionidcounty,\n",
    "#             regionidzip, unitcnt, yearbuilt, `structuretaxvaluedollarcnt`,\n",
    "#             `taxvaluedollarcnt`, `assessmentyear`, `landtaxvaluedollarcnt`,\n",
    "#             taxamount, logerror, `transactiondate` FROM properties_2017\n",
    "#             JOIN predictions_2017 USING (parcelid)\n",
    "#             JOIN propertylandusetype USING (propertylandusetypeid);\"\"\""
   ]
  },
  {
   "cell_type": "code",
   "execution_count": 9,
   "metadata": {},
   "outputs": [],
   "source": [
    "df = acquire('zillow')"
   ]
  },
  {
   "cell_type": "code",
   "execution_count": 10,
   "metadata": {},
   "outputs": [
    {
     "data": {
      "text/html": [
       "<div>\n",
       "<style scoped>\n",
       "    .dataframe tbody tr th:only-of-type {\n",
       "        vertical-align: middle;\n",
       "    }\n",
       "\n",
       "    .dataframe tbody tr th {\n",
       "        vertical-align: top;\n",
       "    }\n",
       "\n",
       "    .dataframe thead th {\n",
       "        text-align: right;\n",
       "    }\n",
       "</style>\n",
       "<table border=\"1\" class=\"dataframe\">\n",
       "  <thead>\n",
       "    <tr style=\"text-align: right;\">\n",
       "      <th></th>\n",
       "      <th>bedroom</th>\n",
       "      <th>bathroom</th>\n",
       "      <th>square_feet</th>\n",
       "      <th>tax_amount</th>\n",
       "      <th>home_value</th>\n",
       "      <th>property_type</th>\n",
       "      <th>fips</th>\n",
       "    </tr>\n",
       "  </thead>\n",
       "  <tbody>\n",
       "    <tr>\n",
       "      <th>0</th>\n",
       "      <td>3.0</td>\n",
       "      <td>2.0</td>\n",
       "      <td>1458.0</td>\n",
       "      <td>2319.90</td>\n",
       "      <td>136104.0</td>\n",
       "      <td>Single Family Residential</td>\n",
       "      <td>6037.0</td>\n",
       "    </tr>\n",
       "    <tr>\n",
       "      <th>1</th>\n",
       "      <td>2.0</td>\n",
       "      <td>1.0</td>\n",
       "      <td>1421.0</td>\n",
       "      <td>543.69</td>\n",
       "      <td>35606.0</td>\n",
       "      <td>Single Family Residential</td>\n",
       "      <td>6037.0</td>\n",
       "    </tr>\n",
       "    <tr>\n",
       "      <th>2</th>\n",
       "      <td>3.0</td>\n",
       "      <td>2.0</td>\n",
       "      <td>1650.0</td>\n",
       "      <td>7673.19</td>\n",
       "      <td>614000.0</td>\n",
       "      <td>Single Family Residential</td>\n",
       "      <td>6037.0</td>\n",
       "    </tr>\n",
       "    <tr>\n",
       "      <th>3</th>\n",
       "      <td>2.0</td>\n",
       "      <td>1.0</td>\n",
       "      <td>693.0</td>\n",
       "      <td>3267.47</td>\n",
       "      <td>274237.0</td>\n",
       "      <td>Single Family Residential</td>\n",
       "      <td>6037.0</td>\n",
       "    </tr>\n",
       "    <tr>\n",
       "      <th>4</th>\n",
       "      <td>3.0</td>\n",
       "      <td>2.0</td>\n",
       "      <td>1108.0</td>\n",
       "      <td>5990.50</td>\n",
       "      <td>486866.0</td>\n",
       "      <td>Single Family Residential</td>\n",
       "      <td>6037.0</td>\n",
       "    </tr>\n",
       "  </tbody>\n",
       "</table>\n",
       "</div>"
      ],
      "text/plain": [
       "   bedroom  bathroom  square_feet  tax_amount  home_value  \\\n",
       "0      3.0       2.0       1458.0     2319.90    136104.0   \n",
       "1      2.0       1.0       1421.0      543.69     35606.0   \n",
       "2      3.0       2.0       1650.0     7673.19    614000.0   \n",
       "3      2.0       1.0        693.0     3267.47    274237.0   \n",
       "4      3.0       2.0       1108.0     5990.50    486866.0   \n",
       "\n",
       "               property_type    fips  \n",
       "0  Single Family Residential  6037.0  \n",
       "1  Single Family Residential  6037.0  \n",
       "2  Single Family Residential  6037.0  \n",
       "3  Single Family Residential  6037.0  \n",
       "4  Single Family Residential  6037.0  "
      ]
     },
     "execution_count": 10,
     "metadata": {},
     "output_type": "execute_result"
    }
   ],
   "source": [
    "df.head()"
   ]
  },
  {
   "cell_type": "code",
   "execution_count": null,
   "metadata": {},
   "outputs": [],
   "source": [
    "mvp = df('bathroomcnt', 'bedroomcnt', 'calculatedfinishedsquarefeet','taxvaluedollarcnt')sgdf"
   ]
  },
  {
   "cell_type": "code",
   "execution_count": 11,
   "metadata": {},
   "outputs": [
    {
     "name": "stdout",
     "output_type": "stream",
     "text": [
      "<class 'pandas.core.frame.DataFrame'>\n",
      "RangeIndex: 14893 entries, 0 to 14892\n",
      "Data columns (total 7 columns):\n",
      "bedroom          14893 non-null float64\n",
      "bathroom         14893 non-null float64\n",
      "square_feet      14893 non-null float64\n",
      "tax_amount       14892 non-null float64\n",
      "home_value       14893 non-null float64\n",
      "property_type    14893 non-null object\n",
      "fips             14893 non-null float64\n",
      "dtypes: float64(6), object(1)\n",
      "memory usage: 814.6+ KB\n"
     ]
    }
   ],
   "source": [
    "df.info()"
   ]
  },
  {
   "cell_type": "code",
   "execution_count": null,
   "metadata": {},
   "outputs": [],
   "source": [
    "#since bathroomcount has zero non-nun nulls and below is ~= 0 we can drop calculatedbathnbr.mean()\n",
    "df.calculatedbathnbr.mean() - df.bathroomcnt.mean()"
   ]
  },
  {
   "cell_type": "code",
   "execution_count": null,
   "metadata": {},
   "outputs": [],
   "source": [
    "#proving that every assessment comes from same year\n",
    "df.assessmentyear.value_counts()"
   ]
  },
  {
   "cell_type": "code",
   "execution_count": null,
   "metadata": {},
   "outputs": [],
   "source": [
    "def mvp_df(df=df):\n",
    "    df.calculatedfinishedsquarefeet.dropna(inplace = True)\n",
    "    df = df.drop(columns=['unitcnt', 'yearbuilt', 'garagecarcnt', 'garagetotalsqft', 'calculatedbathnbr', 'lotsizesquarefeet', 'assessmentyear'])\n",
    "    return df\n"
   ]
  },
  {
   "cell_type": "code",
   "execution_count": null,
   "metadata": {},
   "outputs": [],
   "source": [
    "df = mvp_df(df)\n"
   ]
  },
  {
   "cell_type": "code",
   "execution_count": null,
   "metadata": {},
   "outputs": [],
   "source": [
    "df.info()"
   ]
  },
  {
   "cell_type": "code",
   "execution_count": null,
   "metadata": {},
   "outputs": [],
   "source": [
    "df.propertylandusedesc.value_counts()"
   ]
  },
  {
   "cell_type": "code",
   "execution_count": null,
   "metadata": {},
   "outputs": [],
   "source": [
    "df.fips.value_counts()"
   ]
  },
  {
   "cell_type": "code",
   "execution_count": null,
   "metadata": {},
   "outputs": [],
   "source": [
    "df.regionidcounty.value_counts()"
   ]
  },
  {
   "cell_type": "code",
   "execution_count": null,
   "metadata": {},
   "outputs": [],
   "source": [
    "df.bathroomcnt.value_counts()"
   ]
  },
  {
   "cell_type": "code",
   "execution_count": null,
   "metadata": {},
   "outputs": [],
   "source": [
    "df.bedroomcnt.value_counts()"
   ]
  },
  {
   "cell_type": "code",
   "execution_count": null,
   "metadata": {},
   "outputs": [],
   "source": [
    "df[df.bedroomcnt == 0].calculatedfinishedsquarefeet.value_counts()"
   ]
  },
  {
   "cell_type": "code",
   "execution_count": null,
   "metadata": {},
   "outputs": [],
   "source": [
    "df[df.bedroomcnt == 0].propertylandusedesc.value_counts()"
   ]
  },
  {
   "cell_type": "code",
   "execution_count": null,
   "metadata": {},
   "outputs": [],
   "source": [
    "df.regionidzip.value_counts()"
   ]
  },
  {
   "cell_type": "code",
   "execution_count": null,
   "metadata": {},
   "outputs": [],
   "source": [
    "(df.taxvaluedollarcnt > 0).sum()"
   ]
  },
  {
   "cell_type": "code",
   "execution_count": null,
   "metadata": {},
   "outputs": [],
   "source": [
    "\n",
    "\n"
   ]
  }
 ],
 "metadata": {
  "kernelspec": {
   "display_name": "Python 3",
   "language": "python",
   "name": "python3"
  },
  "language_info": {
   "codemirror_mode": {
    "name": "ipython",
    "version": 3
   },
   "file_extension": ".py",
   "mimetype": "text/x-python",
   "name": "python",
   "nbconvert_exporter": "python",
   "pygments_lexer": "ipython3",
   "version": "3.7.4"
  }
 },
 "nbformat": 4,
 "nbformat_minor": 2
}
